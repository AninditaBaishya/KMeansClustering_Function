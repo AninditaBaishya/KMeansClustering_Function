{
 "cells": [
  {
   "cell_type": "markdown",
   "metadata": {},
   "source": [
    "# K-Means Clustering\n",
    "\n",
    "K-means clustering is a clustering algorithm that aims to partition n observations into k clusters.\n",
    "\n",
    "Below are the 4 steps:\n",
    "\n",
    "1. Initialisation -- K initial “means” centroids are initialized randomly\n",
    "2. Euclidian distance -- Computing the euclidian distance from all the centroids and assign the cluster based on the minimal distance to all the centroids\n",
    "3. Adjusting the centroid -- Adjusting the centroid of each cluster by taking the average of all the data points which belong to that cluster on the basis of the above step calculation\n",
    "4. Plotting of Clusters -- The clusters are well separated and plotted or each values(observations) are associated with the nearest centroid"
   ]
  },
  {
   "cell_type": "code",
   "execution_count": 205,
   "metadata": {},
   "outputs": [
    {
     "data": {
      "text/html": [
       "<div>\n",
       "<style scoped>\n",
       "    .dataframe tbody tr th:only-of-type {\n",
       "        vertical-align: middle;\n",
       "    }\n",
       "\n",
       "    .dataframe tbody tr th {\n",
       "        vertical-align: top;\n",
       "    }\n",
       "\n",
       "    .dataframe thead th {\n",
       "        text-align: right;\n",
       "    }\n",
       "</style>\n",
       "<table border=\"1\" class=\"dataframe\">\n",
       "  <thead>\n",
       "    <tr style=\"text-align: right;\">\n",
       "      <th></th>\n",
       "      <th>CustomerID</th>\n",
       "      <th>Age</th>\n",
       "      <th>Annual Income (k$)</th>\n",
       "      <th>Spending Score (1-100)</th>\n",
       "    </tr>\n",
       "  </thead>\n",
       "  <tbody>\n",
       "    <tr>\n",
       "      <th>count</th>\n",
       "      <td>200.000000</td>\n",
       "      <td>200.000000</td>\n",
       "      <td>200.000000</td>\n",
       "      <td>200.000000</td>\n",
       "    </tr>\n",
       "    <tr>\n",
       "      <th>mean</th>\n",
       "      <td>100.500000</td>\n",
       "      <td>38.850000</td>\n",
       "      <td>60.560000</td>\n",
       "      <td>50.200000</td>\n",
       "    </tr>\n",
       "    <tr>\n",
       "      <th>std</th>\n",
       "      <td>57.879185</td>\n",
       "      <td>13.969007</td>\n",
       "      <td>26.264721</td>\n",
       "      <td>25.823522</td>\n",
       "    </tr>\n",
       "    <tr>\n",
       "      <th>min</th>\n",
       "      <td>1.000000</td>\n",
       "      <td>18.000000</td>\n",
       "      <td>15.000000</td>\n",
       "      <td>1.000000</td>\n",
       "    </tr>\n",
       "    <tr>\n",
       "      <th>25%</th>\n",
       "      <td>50.750000</td>\n",
       "      <td>28.750000</td>\n",
       "      <td>41.500000</td>\n",
       "      <td>34.750000</td>\n",
       "    </tr>\n",
       "    <tr>\n",
       "      <th>50%</th>\n",
       "      <td>100.500000</td>\n",
       "      <td>36.000000</td>\n",
       "      <td>61.500000</td>\n",
       "      <td>50.000000</td>\n",
       "    </tr>\n",
       "    <tr>\n",
       "      <th>75%</th>\n",
       "      <td>150.250000</td>\n",
       "      <td>49.000000</td>\n",
       "      <td>78.000000</td>\n",
       "      <td>73.000000</td>\n",
       "    </tr>\n",
       "    <tr>\n",
       "      <th>max</th>\n",
       "      <td>200.000000</td>\n",
       "      <td>70.000000</td>\n",
       "      <td>137.000000</td>\n",
       "      <td>99.000000</td>\n",
       "    </tr>\n",
       "  </tbody>\n",
       "</table>\n",
       "</div>"
      ],
      "text/plain": [
       "       CustomerID         Age  Annual Income (k$)  Spending Score (1-100)\n",
       "count  200.000000  200.000000          200.000000              200.000000\n",
       "mean   100.500000   38.850000           60.560000               50.200000\n",
       "std     57.879185   13.969007           26.264721               25.823522\n",
       "min      1.000000   18.000000           15.000000                1.000000\n",
       "25%     50.750000   28.750000           41.500000               34.750000\n",
       "50%    100.500000   36.000000           61.500000               50.000000\n",
       "75%    150.250000   49.000000           78.000000               73.000000\n",
       "max    200.000000   70.000000          137.000000               99.000000"
      ]
     },
     "execution_count": 205,
     "metadata": {},
     "output_type": "execute_result"
    }
   ],
   "source": [
    "#importing libraries\n",
    "import numpy as np\n",
    "import matplotlib.pyplot as plt\n",
    "import pandas as pd\n",
    "import random as rd\n",
    "\n",
    "#dictionary for holding key:value pairs from the dataset\n",
    "from collections import defaultdict\n",
    "\n",
    "#importing dataset\n",
    "df=pd.read_csv('Mall_Customers.csv')\n",
    "X = df.iloc[:, [3, 4]].values\n",
    "df.describe()"
   ]
  },
  {
   "cell_type": "code",
   "execution_count": 203,
   "metadata": {},
   "outputs": [
    {
     "data": {
      "image/png": "[encoded data removed]",
      "text/plain": [
       "<Figure size 432x288 with 1 Axes>"
      ]
     },
     "metadata": {
      "needs_background": "light"
     },
     "output_type": "display_data"
    }
   ],
   "source": [
    "#randomly initialised cluster value as 5\n",
    "K=5\n",
    "m=200\n",
    "Centroids=np.array([]).reshape(2,0)\n",
    "\n",
    "#Initialized two training data set as Centroids using Kmeans or random initialization\n",
    "for i in range(K):\n",
    "    rand=rd.randint(0,m-1)\n",
    "    Centroids=np.c_[Centroids,X[rand]]\n",
    "    \n",
    "\n",
    "#loop over the number of iterations to perform clustering\n",
    "no_iter=100\n",
    "result=defaultdict()\n",
    "result={}\n",
    "for n in range(no_iter):\n",
    "    \n",
    "    #Computing the euclidian distance from the centroid for each training data\n",
    "    #Also, based on the minimal distance assigning it to the cluster\n",
    "    euclidianDist=np.array([]).reshape(m,0)\n",
    "    for k in range(K):\n",
    "        tempDist=np.sum((X-Centroids[:,k])**2,axis=1)\n",
    "        euclidianDist=np.c_[euclidianDist,tempDist]\n",
    "        \n",
    "    C=np.argmin(euclidianDist,axis=1)+1\n",
    "    \n",
    "    #Next, adjusting the centroid of each cluster by calculating the average of all the training data \n",
    "    #Which belonged to that cluster based on the calculation performed above  \n",
    "    Y={}\n",
    "    for k in range(K):\n",
    "        Y[k+1]=np.array([]).reshape(2,0)\n",
    "    for i in range(m):\n",
    "        Y[C[i]]=np.c_[Y[C[i]],X[i]]\n",
    "     \n",
    "    for k in range(K):\n",
    "        Y[k+1]=Y[k+1].T\n",
    "        \n",
    "    for k in range(K):\n",
    "        Centroids[:,k]=np.mean(Y[k+1],axis=0)\n",
    "        \n",
    "    result=Y\n",
    "    \n",
    "#plotting of unclustered data\n",
    "plt.scatter(X[:,0],X[:,1],c='black',label='unclustered data')\n",
    "plt.xlabel('Income')\n",
    "plt.ylabel('No of transactions')\n",
    "plt.legend()\n",
    "plt.title('Plotting of Unclustered data')\n",
    "plt.show()"
   ]
  },
  {
   "cell_type": "code",
   "execution_count": 204,
   "metadata": {},
   "outputs": [
    {
     "data": {
      "image/png": "[encoded data removed]",
      "text/plain": [
       "<Figure size 432x288 with 1 Axes>"
      ]
     },
     "metadata": {
      "needs_background": "light"
     },
     "output_type": "display_data"
    }
   ],
   "source": [
    "#plotting of clustered data\n",
    "color=['blue','cyan','green','orange','violet']\n",
    "labels=['Cluster:1','Cluster:2','Cluster:3','Cluster:4','Cluster:5']\n",
    "\n",
    "for k in range(K):\n",
    "    plt.scatter(result[k+1][:,0],result[k+1][:,1],c=color[k],label=labels[k])\n",
    "    \n",
    "plt.title(\"Plotting of Clustered Data\")\n",
    "plt.scatter(Centroids[0,:],Centroids[1,:],s=300,c='red',label='Centroids')\n",
    "plt.xlabel('Income')\n",
    "plt.ylabel('No of transactions')\n",
    "plt.legend()\n",
    "plt.show()"
   ]
  },
  {
   "cell_type": "markdown",
   "metadata": {},
   "source": [
    "### Reference"
   ]
  },
  {
   "cell_type": "markdown",
   "metadata": {},
   "source": [
    "https://medium.com/machine-learning-algorithms-from-scratch/k-means-clustering-from-scratch-in-python-1675d38eee42"
   ]
  },
  {
   "cell_type": "code",
   "execution_count": null,
   "metadata": {},
   "outputs": [],
   "source": []
  }
 ],
 "metadata": {
  "kernelspec": {
   "display_name": "Python 3",
   "language": "python",
   "name": "python3"
  },
  "language_info": {
   "codemirror_mode": {
    "name": "ipython",
    "version": 3
   },
   "file_extension": ".py",
   "mimetype": "text/x-python",
   "name": "python",
   "nbconvert_exporter": "python",
   "pygments_lexer": "ipython3",
   "version": "3.7.1"
  }
 },
 "nbformat": 4,
 "nbformat_minor": 2
}
